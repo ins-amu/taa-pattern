{
 "cells": [
  {
   "cell_type": "code",
   "execution_count": 1,
   "metadata": {
    "collapsed": false
   },
   "outputs": [
    {
     "name": "stderr",
     "output_type": "stream",
     "text": [
      "/home/vsip/soft/miniconda2/envs/py36/lib/python3.6/site-packages/matplotlib/__init__.py:1405: UserWarning: \n",
      "This call to matplotlib.use() has no effect because the backend has already\n",
      "been chosen; matplotlib.use() must be called *before* pylab, matplotlib.pyplot,\n",
      "or matplotlib.backends is imported for the first time.\n",
      "\n",
      "  warnings.warn(_use_error_msg)\n"
     ]
    }
   ],
   "source": [
    "import sys\n",
    "\n",
    "import numpy as np\n",
    "import matplotlib.pyplot as plt\n",
    "from matplotlib.gridspec import GridSpec\n",
    "import pandas as pd\n",
    "import scipy.stats as stats\n",
    "\n",
    "sys.path.append(\"..\")\n",
    "from util.plot import Background\n",
    "\n",
    "%matplotlib inline"
   ]
  },
  {
   "cell_type": "code",
   "execution_count": 52,
   "metadata": {
    "collapsed": false
   },
   "outputs": [],
   "source": [
    "df = pd.read_pickle(\"../run/Taa/df-results-rec.pkl\")\n",
    "df = df[df.is_taa]\n",
    "df = df.drop(columns=[\"model\", \"noise\"]) \n",
    "df['tdur'] = df.tto - df.tfr\n",
    "\n",
    "# Read seizure onset\n",
    "df['onset'] = 0.\n",
    "for subject, rec in df[['subject', 'rec']].drop_duplicates().values:\n",
    "    t_onset = np.load(f\"../data/Recordings/{subject}/rec_{rec:04d}.npz\")['onset']\n",
    "    df.loc[(df.subject == subject) & (df.rec == rec), 'onset'] = t_onset\n",
    "    \n",
    "# Make time relative to seizure onset\n",
    "df.tfr = df.tfr - df.onset\n",
    "df.tto = df.tto - df.onset"
   ]
  },
  {
   "cell_type": "code",
   "execution_count": 53,
   "metadata": {
    "collapsed": true
   },
   "outputs": [],
   "source": [
    "df['ntaa_on_elec'] = 0\n",
    "for subject, rec, elec in df[['subject', 'rec', 'elec']].drop_duplicates().values:\n",
    "    mask = ((df.subject == subject) & (df.rec == rec) & (df.elec == elec))\n",
    "    dff = df[mask]\n",
    "    df.loc[mask, 'ntaa_on_elec'] = len(dff)"
   ]
  },
  {
   "cell_type": "code",
   "execution_count": 54,
   "metadata": {
    "collapsed": true
   },
   "outputs": [],
   "source": [
    "dfg = df[df.is_ingroup]\n",
    "dfn = df[~df.is_ingroup]\n"
   ]
  },
  {
   "cell_type": "markdown",
   "metadata": {},
   "source": [
    "## Main figure"
   ]
  },
  {
   "cell_type": "code",
   "execution_count": 55,
   "metadata": {
    "collapsed": false
   },
   "outputs": [
    {
     "data": {
      "image/png": "[encoded data removed]",
      "text/plain": [
       "<matplotlib.figure.Figure at 0x7fc3cb53f2e8>"
      ]
     },
     "metadata": {},
     "output_type": "display_data"
    }
   ],
   "source": [
    "fig = plt.figure(figsize=(10, 2))\n",
    "\n",
    "gs = GridSpec(1, 5, left=0.06, right=0.98, top=0.86, bottom=0.22, width_ratios=[1, 0.0, 1, 1, 1], wspace=0.8)\n",
    "\n",
    "# Panel A\n",
    "plt.subplot(gs[0])\n",
    "\n",
    "counts = dfn.ntaa_on_elec.clip(upper=4).value_counts()\n",
    "\n",
    "plt.bar(counts.index, counts.values, ec='k')\n",
    "plt.xticks(np.r_[1:5], [\"1\", \"2\", \"3\", \"4+\"])\n",
    "plt.title(\"Non-group TAAs\")\n",
    "plt.ylabel(\"Number of TAAs\")\n",
    "plt.xlabel(\"TAAs on one electrode\")\n",
    "\n",
    "\n",
    "# Panel B\n",
    "features = ['freq', 'tdur', 'tfr']\n",
    "feature_names = [\"Frequency [Hz]\", \"Duration [s]\", \"Delay [s]\"]\n",
    "\n",
    "for i in range(len(features)):\n",
    "    plt.subplot(gs[i+2])\n",
    "    plt.boxplot([dfn[features[i]], dfg[features[i]]], widths=0.7, showfliers=False)\n",
    "    plt.xticks([1, 2], [\"Non-group\\nTAAs\", \"Group\\nTAAs\"])\n",
    "    plt.ylabel(feature_names[i])\n",
    "\n",
    "bg = Background(visible=False)\n",
    "bg.labels([0.002, 0.3], [0.86, 0.86], fontsize=20)\n",
    "\n",
    "plt.savefig(\"figs/nongroup-taas.pdf\")"
   ]
  },
  {
   "cell_type": "code",
   "execution_count": 56,
   "metadata": {
    "collapsed": false
   },
   "outputs": [
    {
     "name": "stdout",
     "output_type": "stream",
     "text": [
      "Frequency [Hz] : 34639.5  0.2646\n",
      "Duration [s]   : 33969.0  0.1634\n",
      "Delay [s]      : 33732.5  0.1346\n",
      "n grp    : 160\n",
      "n non-grp: 448\n"
     ]
    }
   ],
   "source": [
    "# Statistics\n",
    "for i in range(len(features)):\n",
    "    res = stats.mannwhitneyu(dfg[features[i]], dfn[features[i]])\n",
    "    print(f\"{feature_names[i]:15s}: {res.statistic}  {res.pvalue:.4f}\")\n",
    "    \n",
    "    \n",
    "print(f\"n grp    : {len(dfg)}\")\n",
    "print(f\"n non-grp: {len(dfn)}\")"
   ]
  },
  {
   "cell_type": "code",
   "execution_count": 57,
   "metadata": {
    "collapsed": false
   },
   "outputs": [
    {
     "data": {
      "text/plain": [
       "(0.21217105263157895, 0.28794642857142855)"
      ]
     },
     "execution_count": 57,
     "metadata": {},
     "output_type": "execute_result"
    }
   ],
   "source": [
    "(df.ntaa_on_elec == 1).mean(), (dfn.ntaa_on_elec == 1).mean(), "
   ]
  }
 ],
 "metadata": {
  "kernelspec": {
   "display_name": "Python 3",
   "language": "python",
   "name": "python3"
  },
  "language_info": {
   "codemirror_mode": {
    "name": "ipython",
    "version": 3
   },
   "file_extension": ".py",
   "mimetype": "text/x-python",
   "name": "python",
   "nbconvert_exporter": "python",
   "pygments_lexer": "ipython3",
   "version": "3.6.6"
  }
 },
 "nbformat": 4,
 "nbformat_minor": 2
}
